{
 "cells": [
  {
   "cell_type": "markdown",
   "metadata": {},
   "source": [
    "git init リポジトリの作成  \n",
    "ls ファイル名の表示  \n",
    "ls .git gitリポジトリ内を表示  \n",
    "ls -a 隠しフォルダも表示  \n",
    "git add ステージに追加  "
   ]
  },
  {
   "cell_type": "markdown",
   "metadata": {},
   "source": [
    "git commit 変更を記録する  \n",
    "git commit -m \"<メッセージ>\"　エディタを立ち上げなくていい  \n",
    "git commit -v 何を変更したかわかる  "
   ]
  },
  {
   "cell_type": "markdown",
   "metadata": {},
   "source": [
    "コミットメッセージは簡単に書くときは一行  \n",
    "正式に書くときは  \n",
    "1. 変更内容の要約\n",
    "2. 空行\n",
    "3. 変更した理由"
   ]
  },
  {
   "cell_type": "markdown",
   "metadata": {},
   "source": [
    "git status 現在の状況を確認する  \n"
   ]
  },
  {
   "cell_type": "markdown",
   "metadata": {},
   "source": [
    "git diff 変更差分を確認する  \n",
    "git diff <ファイル名> 特定のファイルの場合  \n",
    "git diff --staged 　gid addした後  \n",
    "ワークツリー⇔ステージ　git diff  \n",
    "ステージ⇔リポジトリ  git diff --staged  "
   ]
  },
  {
   "cell_type": "markdown",
   "metadata": {},
   "source": [
    "git log 変更履歴を確認する  \n",
    "git log --oneline  １行で表示する  \n",
    "git log -p ファイル名　　特定ファイルを見る  \n",
    "git log -n コミットの数を指定できる  \n"
   ]
  },
  {
   "cell_type": "markdown",
   "metadata": {},
   "source": [
    "git rm ファイル名　　ファイルごと削除  \n",
    "git rm -r ディレクトリ名　　ディレクトリの削除  \n",
    "↑コミットしたファイル,ワークツリーのファイル両方消す  \n",
    "git rm --cached ファイル名　　ワークツリーには残して置ける  \n",
    "↑パスワードなどをコミットした場合に使用  "
   ]
  },
  {
   "cell_type": "markdown",
   "metadata": {},
   "source": [
    "git reset HEAD ファイル名　　削除の取り消し  \n",
    "git checkout ファイル名　　削除の取り消し  "
   ]
  },
  {
   "cell_type": "markdown",
   "metadata": {},
   "source": [
    "git mv 古い名 新しい名  ファイルの移動を記録  "
   ]
  },
  {
   "cell_type": "markdown",
   "metadata": {},
   "source": [
    "git remote add origin URL　  githubに新規追加する  \n",
    "↑originというショートカットでurlのリモートリポジトリを登録  "
   ]
  },
  {
   "cell_type": "markdown",
   "metadata": {},
   "source": [
    "git push origin master  リモートリポジトリに送信  \n",
    "git push -u origin master 　　次回からgit pushだけでプッシュできるようになる  "
   ]
  },
  {
   "cell_type": "markdown",
   "metadata": {},
   "source": [
    "github上の操作  \n",
    "- Raw テキストデータを見れる（コピペしたりするとき便利）\n",
    "- Blame 誰が、いつ、そのコードを変更したのか一行一行わかる\n",
    "- History ファイルのコミットの履歴\n",
    "- commits 全体のコミットの履歴"
   ]
  },
  {
   "cell_type": "markdown",
   "metadata": {},
   "source": [
    "コマンドにエイリアスを付ける⇔略称をつけてコマンドを楽に  \n",
    "git config --global alias // ++++++     ++++に//という名前でエイリアスを付ける  \n",
    "**--global**   PC全体の設定を変更  "
   ]
  },
  {
   "cell_type": "markdown",
   "metadata": {},
   "source": [
    "バージョン管理しないファイルをgitの管理から外す  \n",
    "→gitignoreファイルに指定する  \n",
    "ignoreファイルに除外するファイルやディレクトリを書く"
   ]
  },
  {
   "cell_type": "markdown",
   "metadata": {},
   "source": [
    "**ワークツリーの状態をステージと同じにする**  \n",
    "**ステージ－－－－→ワークツリー**  \n",
    "git checkout --ファイル名　　　ファイルの変更を取り消す  \n",
    "git checkout --ディレクトリ名　　　ディレクトリ名の変更を取り消す  \n",
    "git checkout --.　　　全変更を取り消す  "
   ]
  },
  {
   "cell_type": "markdown",
   "metadata": {},
   "source": [
    "**リポジトリから最新のコミットを取得してリポジトリと同じ状態に**  \n",
    "**リポジトリ－－－－→ステージ**  \n",
    "git reset HEAD ファイル名　　ステージした変更を取り消す  \n",
    "git reset HEAD ディレクトリ名　　ステージした変更を取り消す  \n",
    "git reset HEAD .　　全変更を取り消す  "
   ]
  },
  {
   "cell_type": "markdown",
   "metadata": {},
   "source": [
    "git commit --amend  直前のコミットを修正する  \n",
    "**////注意////**  \n",
    "**リモートリポジトリにプッシュしたあとは行ってはいけない**  \n",
    "**////注意////**  "
   ]
  },
  {
   "cell_type": "markdown",
   "metadata": {},
   "source": [
    "git remote　　リモートの情報を確認  \n",
    "git remote -v　　リモートのurlを表示  \n",
    "リモートリポジトリは複数登録することができる！  \n",
    "git remote add リモート名　リモートURL  "
   ]
  },
  {
   "cell_type": "markdown",
   "metadata": {},
   "source": [
    "git fetch リモート名　　リモートから情報をローカルに  \n",
    "git merge 　　ローカルリポジトリからワークツリーへ  \n",
    "git pull リモート名　ブランチ名  \n",
    "フェッチとプルをどう使い分ける？？  \n",
    "プルの注意点自分のいるブランチにマージされる  "
   ]
  },
  {
   "cell_type": "markdown",
   "metadata": {},
   "source": [
    "git remote show origin(remotename)　　リモートの詳細情報を表示する  \n",
    "- fetchとpushのURL  \n",
    "- リモートブランチ  \n",
    "- git pullの挙動  \n",
    "- git pushの挙動  \n"
   ]
  }
 ],
 "metadata": {
  "kernelspec": {
   "display_name": "Python 3",
   "language": "python",
   "name": "python3"
  },
  "language_info": {
   "codemirror_mode": {
    "name": "ipython",
    "version": 3
   },
   "file_extension": ".py",
   "mimetype": "text/x-python",
   "name": "python",
   "nbconvert_exporter": "python",
   "pygments_lexer": "ipython3",
   "version": "3.6.5"
  }
 },
 "nbformat": 4,
 "nbformat_minor": 2
}
