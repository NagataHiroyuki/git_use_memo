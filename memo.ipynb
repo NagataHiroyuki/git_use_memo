{
 "cells": [
  {
   "cell_type": "markdown",
   "metadata": {},
   "source": [
    "git init リポジトリの作成  \n",
    "ls ファイル名の表示  \n",
    "ls .git gitリポジトリ内を表示  \n",
    "ls -a 隠しフォルダも表示  \n",
    "git add ステージに追加  "
   ]
  },
  {
   "cell_type": "markdown",
   "metadata": {},
   "source": [
    "git commit 変更を記録する  \n",
    "git commit -m \"<メッセージ>\"　エディタを立ち上げなくていい  \n",
    "git commit -v 何を変更したかわかる  "
   ]
  },
  {
   "cell_type": "markdown",
   "metadata": {},
   "source": [
    "コミットメッセージは簡単に書くときは一行  \n",
    "正式に書くときは  \n",
    "1. 変更内容の要約\n",
    "2. 空行\n",
    "3. 変更した理由"
   ]
  },
  {
   "cell_type": "markdown",
   "metadata": {},
   "source": [
    "git status 現在の状況を確認する  \n"
   ]
  },
  {
   "cell_type": "code",
   "execution_count": null,
   "metadata": {},
   "outputs": [],
   "source": []
  }
 ],
 "metadata": {
  "kernelspec": {
   "display_name": "Python 3",
   "language": "python",
   "name": "python3"
  },
  "language_info": {
   "codemirror_mode": {
    "name": "ipython",
    "version": 3
   },
   "file_extension": ".py",
   "mimetype": "text/x-python",
   "name": "python",
   "nbconvert_exporter": "python",
   "pygments_lexer": "ipython3",
   "version": "3.6.5"
  }
 },
 "nbformat": 4,
 "nbformat_minor": 2
}
